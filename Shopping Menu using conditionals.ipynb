{
 "cells": [
  {
   "cell_type": "markdown",
   "id": "f8dfff64",
   "metadata": {},
   "source": [
    "In this project, a shopping menu is designed to allow the user to choose from a range of mobile phones. The user also has the option to look at the availability and make a purchase based on his/her choice."
   ]
  },
  {
   "cell_type": "markdown",
   "id": "3005bf9d",
   "metadata": {},
   "source": [
    "# Creating the dataset"
   ]
  },
  {
   "cell_type": "code",
   "execution_count": null,
   "id": "69ac10d9",
   "metadata": {},
   "outputs": [],
   "source": [
    "#Creating the list of products using dictionary. \n",
    "import pandas as pd\n",
    "import numpy as np\n",
    "products = {\n",
    "    101: {\"Product Name\": \"Samsung Galaxy S22 Smartphone\", \"Price\": 4723.50},\n",
    "    102: {\"Product Name\": \"Apple iPhone 14 Pro\", \"Price\": 8399.20},\n",
    "    103: {\"Product Name\": \"Apple iPhone 14 Pro Max\", \"Price\": 9240.83},\n",
    "    104: {\"Product Name\": \"Huawei Mate 50 Smartphone\", \"Price\": 6150.00},\n",
    "    105: {\"Product Name\": \"Samsung Galaxy Z Flip3 5G Smartphone\", \"Price\": 5298.20},\n",
    "    106: {\"Product Name\": \"Samsung Galaxy S23+ Smartphone\", \"Price\": 7538.20},\n",
    "    107: {\"Product Name\": \"Vivo X90 Pro Mobile Phone\", \"Price\": 8670.00},\n",
    "    108: {\"Product Name\": \"Redmi Note 11 Pro+ 5G Smartphone\", \"Price\": 3560.79}\n",
    "}\n",
    "\n",
    "\n",
    "#Creating a dataframe - This is just to make a tabular view when User choses option 1\n",
    "#The price is in HK$ (Hong Kong Dollars)\n",
    "\n",
    "products_df = pd.DataFrame({\n",
    "    \"Product ID\": [101, 102, 103, 104, 105, 106, 107, 108],\n",
    "    \"Product Name\": [\"Samsung Galaxy S22 Smartphone\", \"Apple iPhone 14 Pro\", \"Apple iPhone 14 Pro Max\",\n",
    "                    \"Huawei Mate 50 Smartphone\", \"Samsung Galaxy Z Flip3 5G Smartphone\", \"Samsung Galaxy S23+ Smartphone\",\n",
    "                    \"Vivo X90 Pro Mobile Phone\", \"Redmi Note 11 Pro+ 5G Smartphone\"],\n",
    "    \"Price\": [4723.50, 8399.20, 9240.83, 6150.00, 5298.20, 7538.20, 8670.00, 3560.79]    \n",
    "}, columns = [\"Product ID\", \"Product Name\", \"Price\"])\n",
    "products_df = products_df.set_index(\"Product ID\")                                    #Setting the Product_ID as index\n",
    "\n",
    "\n",
    "#Creating another dictionary which stores the quantity avaiable for each phone (in products)\n",
    "\n",
    "stock = {\n",
    "    101: 14, 102: 20, 103: 45, 104: 25, 105: 28, 106: 18, 107:35, 108: 26\n",
    "}"
   ]
  },
  {
   "cell_type": "code",
   "execution_count": null,
   "id": "2de253ea",
   "metadata": {},
   "outputs": [],
   "source": [
    "products_df"
   ]
  },
  {
   "cell_type": "markdown",
   "id": "23d0740c",
   "metadata": {},
   "source": [
    "# Working with Main Menu"
   ]
  },
  {
   "cell_type": "code",
   "execution_count": null,
   "id": "d5d236d9",
   "metadata": {},
   "outputs": [],
   "source": [
    "while True:\n",
    "    print(\"\\nMain Menu\\n----------------\\n1) Product list\\n2) Product availability\\n3) Order placement\\n4) Exit\")\n",
    "    main_option = int(input(\"Choose an option from the Main Menu: \"))\n",
    "    \n",
    "    if main_option == 1:\n",
    "        print(\"\\nProduct List\\n------------------------------------------------------------------\\n\")\n",
    "        print(products_df)\n",
    "        input(\"Press any key to return to Main Menu: \")\n",
    "\n",
    "            \n",
    "    if main_option == 2:\n",
    "        try:\n",
    "            print(\"\\nAvailability of products\\n-----------------------\\n\")\n",
    "            product_id = int(input(\"Please enter the Product ID: \"))\n",
    "            if product_id not in products.keys():                    #If Product_ID is invalid it will raise the valueError \n",
    "                raise ValueError\n",
    "            if product_id in products:\n",
    "                print(f\"Quantity available in stock -\\n{products[product_id]['Product Name']} - {stock[product_id]}\")\n",
    "                input(\"Press any key to return to Main Menu: \")\n",
    "\n",
    "        except ValueError:\n",
    "            print(\"Invalid Product ID\")\n",
    "\n",
    "        \n",
    "    if main_option == 3:\n",
    "        try:\n",
    "            product_id = int(input(\"Please enter the Product ID: \"))\n",
    "            if product_id not in products.keys():\n",
    "                raise ValueError\n",
    "            if product_id in stock:\n",
    "                quantity = int(input(\"Please type the quantity of the product you wish to order: \"))\n",
    "                if quantity <= stock[product_id]:\n",
    "                    print(\"Stock available!\")                                 #if User enters a quantity that is less than or equal to that value in the \"stock\" dictionary above, the order gets processed \n",
    "                    total_price = products[product_id]['Price'] * quantity    #variable \"total_price\" to calculate the sum based on the user's \"quantity\" input\n",
    "                    total_price = \"{:.2f}\".format(total_price)\n",
    "                    print(f\"You have chosen to purchase {quantity} units of {products[product_id]['Product Name']} with total price of HK$\", total_price)\n",
    "                    confirmation = input(\"Please type 'Y' to confirm purchase: \")\n",
    "                    if confirmation == \"Y\" or confirmation == \"y\":\n",
    "                        print(\"Your order has been confirmed. Thank you!\")\n",
    "                        stock[product_id] = stock[product_id] - quantity      #if the order is successful, the quantity indexed in the \"stock\" dictionary is reduced by the user's input\n",
    "                    else:\n",
    "                        print(\"Wrong input. Your order has been cancelled.\")\n",
    "                else:\n",
    "                    print(\"Quantity exceeds stock available. Sorry!\")\n",
    "                input(\"Press any key to return to Main Menu: \")\n",
    "        except ValueError:\n",
    "            print(\"Invalid Product ID\")\n",
    "            \n",
    "    elif main_option == 4:\n",
    "        break\n",
    "        \n",
    "    else:\n",
    "        continue"
   ]
  }
 ],
 "metadata": {
  "kernelspec": {
   "display_name": "Python 3 (ipykernel)",
   "language": "python",
   "name": "python3"
  },
  "language_info": {
   "codemirror_mode": {
    "name": "ipython",
    "version": 3
   },
   "file_extension": ".py",
   "mimetype": "text/x-python",
   "name": "python",
   "nbconvert_exporter": "python",
   "pygments_lexer": "ipython3",
   "version": "3.10.9"
  }
 },
 "nbformat": 4,
 "nbformat_minor": 5
}
